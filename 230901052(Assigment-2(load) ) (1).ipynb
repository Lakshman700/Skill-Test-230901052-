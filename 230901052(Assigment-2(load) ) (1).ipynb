{
 "cells": [
  {
   "cell_type": "code",
   "execution_count": 41,
   "id": "28fb8d1f-4f2d-4c7e-abf0-0d582716f486",
   "metadata": {},
   "outputs": [
    {
     "name": "stdout",
     "output_type": "stream",
     "text": [
      "    Emp ID Name Prefix First Name Middle Initial Last Name Gender  \\\n",
      "0   677509        Drs.       Lois              H    Walker      F   \n",
      "1   940761         Ms.     Brenda              S  Robinson      F   \n",
      "2   428945         Dr.        Joe              W  Robinson      M   \n",
      "3   408351        Drs.      Diane              I     Evans      F   \n",
      "4   193819         Mr.   Benjamin              R   Russell      M   \n",
      "..     ...         ...        ...            ...       ...    ...   \n",
      "95  639892         Mr.       Jose              K      Hill      M   \n",
      "96  704709         Dr.     Harold              Z    Nelson      M   \n",
      "97  461593         Ms.     Nicole              O      Ward      F   \n",
      "98  392491        Mrs.    Theresa              R    Murphy      F   \n",
      "99  495141        Drs.      Tammy              B     Young      F   \n",
      "\n",
      "                          E Mail     Father's Name       Mother's Name  \\\n",
      "0        lois.walker@hotmail.com     Donald Walker        Helen Walker   \n",
      "1      brenda.robinson@gmail.com  Raymond Robinson       Judy Robinson   \n",
      "2         joe.robinson@gmail.com    Scott Robinson  Stephanie Robinson   \n",
      "3          diane.evans@yahoo.com       Jason Evans      Michelle Evans   \n",
      "4   benjamin.russell@charter.net   Gregory Russell   Elizabeth Russell   \n",
      "..                           ...               ...                 ...   \n",
      "95         jose.hill@hotmail.com       Carlos Hill           Anna Hill   \n",
      "96       harold.nelson@gmail.com    Richard Nelson       Pamela Nelson   \n",
      "97         nicole.ward@yahoo.com        Ralph Ward          Julia Ward   \n",
      "98      theresa.murphy@gmail.com     George Murphy   Jacqueline Murphy   \n",
      "99       tammy.young@comcast.net      Andrew Young        Brenda Young   \n",
      "\n",
      "   Mother's Maiden Name  Salary  \n",
      "0                 Lewis  168251  \n",
      "1                 Perry   51063  \n",
      "2                Taylor   50155  \n",
      "3                 Allen  180294  \n",
      "4                Nelson  117642  \n",
      "..                  ...     ...  \n",
      "95                Hayes  129774  \n",
      "96                Smith  156194  \n",
      "97                  Lee   95673  \n",
      "98             Peterson   51015  \n",
      "99             Robinson   93650  \n",
      "\n",
      "[100 rows x 11 columns]\n"
     ]
    }
   ],
   "source": [
    "import pandas as pd\n",
    "a=pd.read_csv(\"employees details.csv\")\n",
    "print(a)"
   ]
  },
  {
   "cell_type": "code",
   "execution_count": 39,
   "id": "df224337-b9a2-41a6-aedb-02ef90657c82",
   "metadata": {},
   "outputs": [
    {
     "name": "stdout",
     "output_type": "stream",
     "text": [
      "Columns Index(['Emp ID', 'Name Prefix', 'First Name', 'Middle Initial', 'Last Name',\n",
      "       'Gender', 'E Mail', 'Father's Name', 'Mother's Name',\n",
      "       'Mother's Maiden Name', 'Salary'],\n",
      "      dtype='object')\n",
      "(100, 11)\n"
     ]
    }
   ],
   "source": [
    "df=pd.DataFrame(a)\n",
    "print(\"Columns\",df.columns)\n",
    "print(df.shape)"
   ]
  },
  {
   "cell_type": "code",
   "execution_count": 8,
   "id": "ebd54962-58cc-4014-a43d-33265f027af0",
   "metadata": {},
   "outputs": [
    {
     "name": "stdout",
     "output_type": "stream",
     "text": [
      "FIRST NAME 0         Lois\n",
      "1       Brenda\n",
      "2          Joe\n",
      "3        Diane\n",
      "4     Benjamin\n",
      "        ...   \n",
      "95        Jose\n",
      "96      Harold\n",
      "97      Nicole\n",
      "98     Theresa\n",
      "99       Tammy\n",
      "Name: First Name, Length: 100, dtype: object\n"
     ]
    }
   ],
   "source": [
    "print(\"FIRST NAME\",df['First Name'])"
   ]
  },
  {
   "cell_type": "code",
   "execution_count": 10,
   "id": "9320ce56-cada-4bd6-80d8-fc6cf8af11cb",
   "metadata": {},
   "outputs": [
    {
     "name": "stdout",
     "output_type": "stream",
     "text": [
      "   Emp ID Name Prefix First Name Middle Initial Last Name Gender  \\\n",
      "5  499687         Mr.    Patrick              F    Bailey      M   \n",
      "6  539712         Ms.      Nancy              T     Baker      F   \n",
      "7  380086        Mrs.      Carol              V    Murphy      F   \n",
      "8  477616        Hon.    Frances              B     Young      F   \n",
      "9  162402        Hon.      Diana              T  Peterson      F   \n",
      "\n",
      "                         E Mail      Father's Name       Mother's Name  \\\n",
      "5        patrick.bailey@aol.com       Ralph Bailey        Laura Bailey   \n",
      "6            nancy.baker@bp.com        Scott Baker          Judy Baker   \n",
      "7        carol.murphy@gmail.com      Eugene Murphy    Katherine Murphy   \n",
      "8       frances.young@gmail.com         Fred Young       Lillian Young   \n",
      "9  diana.peterson@hotmail.co.uk  Jonathan Peterson  Christina Peterson   \n",
      "\n",
      "  Mother's Maiden Name  Salary  \n",
      "5            Henderson   72305  \n",
      "6               Thomas   98189  \n",
      "7             Peterson   60918  \n",
      "8                 Diaz  121587  \n",
      "9                 Ross   43010  \n"
     ]
    }
   ],
   "source": [
    "print(df[5:10])"
   ]
  },
  {
   "cell_type": "code",
   "execution_count": 12,
   "id": "cefd041b-e06b-4a31-a528-a43a6e591e81",
   "metadata": {},
   "outputs": [
    {
     "name": "stdout",
     "output_type": "stream",
     "text": [
      "Particular Person details Emp ID                                  428945\n",
      "Name Prefix                                Dr.\n",
      "First Name                                 Joe\n",
      "Middle Initial                               W\n",
      "Last Name                             Robinson\n",
      "Gender                                       M\n",
      "E Mail                  joe.robinson@gmail.com\n",
      "Father's Name                   Scott Robinson\n",
      "Mother's Name               Stephanie Robinson\n",
      "Mother's Maiden Name                    Taylor\n",
      "Salary                                   50155\n",
      "Name: 2, dtype: object\n"
     ]
    }
   ],
   "source": [
    "print(\"Particular Person details\",df.loc[2])"
   ]
  },
  {
   "cell_type": "code",
   "execution_count": 20,
   "id": "efc1cadb-d297-4e42-9bd2-cd53c8ad72a0",
   "metadata": {},
   "outputs": [
    {
     "name": "stdout",
     "output_type": "stream",
     "text": [
      "   Emp ID Name Prefix First Name Middle Initial Last Name Gender  \\\n",
      "1  940761         Ms.     Brenda              S  Robinson      F   \n",
      "\n",
      "                      E Mail     Father's Name  Mother's Name  \\\n",
      "1  brenda.robinson@gmail.com  Raymond Robinson  Judy Robinson   \n",
      "\n",
      "  Mother's Maiden Name  Salary  \n",
      "1                Perry   51063  \n"
     ]
    }
   ],
   "source": [
    "#printing specific persons details with his salary:\n",
    "print(a.loc[a['Salary']==51063])"
   ]
  },
  {
   "cell_type": "code",
   "execution_count": null,
   "id": "3a7a42ae-a742-40e8-9284-e7ce35b725a5",
   "metadata": {},
   "outputs": [],
   "source": []
  },
  {
   "cell_type": "code",
   "execution_count": 24,
   "id": "72d5dc4e-b8b5-401d-a190-0289c5ff904e",
   "metadata": {},
   "outputs": [
    {
     "name": "stdout",
     "output_type": "stream",
     "text": [
      "0     84125.5\n",
      "1     25531.5\n",
      "2     25077.5\n",
      "3     90147.0\n",
      "4     58821.0\n",
      "       ...   \n",
      "95    64887.0\n",
      "96    78097.0\n",
      "97    47836.5\n",
      "98    25507.5\n",
      "99    46825.0\n",
      "Name: Salary, Length: 100, dtype: float64\n"
     ]
    }
   ],
   "source": [
    "#printing half of the salary:\n",
    "df=a[\"Salary\"]/2\n",
    "print(df)"
   ]
  },
  {
   "cell_type": "code",
   "execution_count": 26,
   "id": "f6eb748d-acad-4e46-b63e-ced314269fd4",
   "metadata": {},
   "outputs": [
    {
     "name": "stdout",
     "output_type": "stream",
     "text": [
      "0          lois.walker@hotmail.com\n",
      "1        brenda.robinson@gmail.com\n",
      "2           joe.robinson@gmail.com\n",
      "3            diane.evans@yahoo.com\n",
      "4     benjamin.russell@charter.net\n",
      "                  ...             \n",
      "95           jose.hill@hotmail.com\n",
      "96         harold.nelson@gmail.com\n",
      "97           nicole.ward@yahoo.com\n",
      "98        theresa.murphy@gmail.com\n",
      "99         tammy.young@comcast.net\n",
      "Name: E Mail, Length: 100, dtype: object\n"
     ]
    }
   ],
   "source": [
    "#printing e mail id:\n",
    "df=a[\"E Mail\"]\n",
    "print(df)"
   ]
  },
  {
   "cell_type": "code",
   "execution_count": 43,
   "id": "75614a0c-6522-4fb4-a5d2-d2c981c97540",
   "metadata": {
    "scrolled": true
   },
   "outputs": [
    {
     "name": "stdout",
     "output_type": "stream",
     "text": [
      "    Emp ID Name Prefix First Name Middle Initial Last Name Gender  \\\n",
      "33  456747         Mr.        Roy              Z   Griffin      M   \n",
      "\n",
      "                   E Mail     Father's Name  Mother's Name  \\\n",
      "33  roy.griffin@yahoo.com  Benjamin Griffin  Wanda Griffin   \n",
      "\n",
      "   Mother's Maiden Name  Salary  \n",
      "33              Simmons  170895  \n"
     ]
    }
   ],
   "source": [
    "print(df.loc[a['First Name']=='Roy'])"
   ]
  },
  {
   "cell_type": "code",
   "execution_count": null,
   "id": "f0a865f3-a3a6-4300-b6d2-c39f7922e585",
   "metadata": {},
   "outputs": [],
   "source": []
  },
  {
   "cell_type": "code",
   "execution_count": null,
   "id": "63527d98-ce65-4451-be64-1ab1e9e9bb9d",
   "metadata": {},
   "outputs": [],
   "source": []
  }
 ],
 "metadata": {
  "kernelspec": {
   "display_name": "Python 3 (ipykernel)",
   "language": "python",
   "name": "python3"
  },
  "language_info": {
   "codemirror_mode": {
    "name": "ipython",
    "version": 3
   },
   "file_extension": ".py",
   "mimetype": "text/x-python",
   "name": "python",
   "nbconvert_exporter": "python",
   "pygments_lexer": "ipython3",
   "version": "3.12.7"
  }
 },
 "nbformat": 4,
 "nbformat_minor": 5
}
